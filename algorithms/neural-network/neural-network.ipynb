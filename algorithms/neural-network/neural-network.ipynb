{
 "cells": [
  {
   "cell_type": "code",
   "execution_count": 58,
   "metadata": {},
   "outputs": [],
   "source": [
    "import numpy as np\n",
    "\n",
    "class NeuralNetwork:\n",
    "    def __init__(self, input_layer_size, hidden_layer_size, output_layer_size):\n",
    "        self.input_layer_size = input_layer_size\n",
    "        self.hidden_layer_size = hidden_layer_size\n",
    "        self.output_layer_size = output_layer_size\n",
    "    \n",
    "        self.W1 = np.random.randn(self.input_layer_size, self.hidden_layer_size)\n",
    "        self.W2 = np.random.randn(self.hidden_layer_size, self.output_layer_size)\n",
    "\n",
    "    @staticmethod\n",
    "    def sigmoid(x):\n",
    "        return 1 / (1 + np.exp(-x))\n",
    "\n",
    "    def predict(self, X):\n",
    "        self.z2 = np.dot(X, self.W1) # linear combination of weights and input (previous) layer for layer 2\n",
    "        self.a2 = self.sigmoid(self.z2) # activation for layer 2\n",
    "        self.z3 = np.dot(self.a2, self.W2) # linear combination of output weights and hidden layer for output layer\n",
    "        yHat = self.sigmoid(self.z3) # activation of output layer\n",
    "        return yHat"
   ]
  },
  {
   "cell_type": "code",
   "execution_count": 59,
   "metadata": {},
   "outputs": [
    {
     "data": {
      "text/plain": [
       "array([[ 0.56790485],\n",
       "       [ 0.85007859],\n",
       "       [ 0.84925774]])"
      ]
     },
     "execution_count": 59,
     "metadata": {},
     "output_type": "execute_result"
    }
   ],
   "source": [
    "X = np.array([[9, -4],\n",
    "              [23, 84],\n",
    "              [8, 5]])\n",
    "y = np.array([6, 15, 5])\n",
    "\n",
    "NeuralNetwork.sigmoid(X)\n",
    "\n",
    "nn = NeuralNetwork(2, 3, 1)\n",
    "\n",
    "nn.predict(X)"
   ]
  }
 ],
 "metadata": {
  "kernelspec": {
   "display_name": "Python 3",
   "language": "python",
   "name": "python3"
  },
  "language_info": {
   "codemirror_mode": {
    "name": "ipython",
    "version": 3
   },
   "file_extension": ".py",
   "mimetype": "text/x-python",
   "name": "python",
   "nbconvert_exporter": "python",
   "pygments_lexer": "ipython3",
   "version": "3.6.3"
  }
 },
 "nbformat": 4,
 "nbformat_minor": 2
}
