{
 "cells": [
  {
   "cell_type": "code",
   "execution_count": 1,
   "metadata": {},
   "outputs": [],
   "source": [
    "%matplotlib inline\n",
    "\n",
    "import math\n",
    "import pandas as pd\n",
    "import matplotlib.pyplot as plt\n",
    "\n",
    "from collections import Counter\n",
    "from functools import reduce"
   ]
  },
  {
   "cell_type": "code",
   "execution_count": 2,
   "metadata": {},
   "outputs": [
    {
     "data": {
      "text/html": [
       "<div>\n",
       "<style scoped>\n",
       "    .dataframe tbody tr th:only-of-type {\n",
       "        vertical-align: middle;\n",
       "    }\n",
       "\n",
       "    .dataframe tbody tr th {\n",
       "        vertical-align: top;\n",
       "    }\n",
       "\n",
       "    .dataframe thead th {\n",
       "        text-align: right;\n",
       "    }\n",
       "</style>\n",
       "<table border=\"1\" class=\"dataframe\">\n",
       "  <thead>\n",
       "    <tr style=\"text-align: right;\">\n",
       "      <th></th>\n",
       "      <th>age</th>\n",
       "      <th>menopause</th>\n",
       "      <th>tumor-size</th>\n",
       "      <th>inv-nodes</th>\n",
       "      <th>node-caps</th>\n",
       "      <th>deg-malig</th>\n",
       "      <th>breast</th>\n",
       "      <th>breast-quad</th>\n",
       "      <th>irradiat</th>\n",
       "      <th>class</th>\n",
       "    </tr>\n",
       "  </thead>\n",
       "  <tbody>\n",
       "    <tr>\n",
       "      <th>0</th>\n",
       "      <td>40-49</td>\n",
       "      <td>premeno</td>\n",
       "      <td>15-19</td>\n",
       "      <td>0-2</td>\n",
       "      <td>yes</td>\n",
       "      <td>3</td>\n",
       "      <td>right</td>\n",
       "      <td>left_up</td>\n",
       "      <td>no</td>\n",
       "      <td>recurrence-events</td>\n",
       "    </tr>\n",
       "    <tr>\n",
       "      <th>1</th>\n",
       "      <td>50-59</td>\n",
       "      <td>ge40</td>\n",
       "      <td>15-19</td>\n",
       "      <td>0-2</td>\n",
       "      <td>no</td>\n",
       "      <td>1</td>\n",
       "      <td>right</td>\n",
       "      <td>central</td>\n",
       "      <td>no</td>\n",
       "      <td>no-recurrence-events</td>\n",
       "    </tr>\n",
       "    <tr>\n",
       "      <th>2</th>\n",
       "      <td>50-59</td>\n",
       "      <td>ge40</td>\n",
       "      <td>35-39</td>\n",
       "      <td>0-2</td>\n",
       "      <td>no</td>\n",
       "      <td>2</td>\n",
       "      <td>left</td>\n",
       "      <td>left_low</td>\n",
       "      <td>no</td>\n",
       "      <td>recurrence-events</td>\n",
       "    </tr>\n",
       "    <tr>\n",
       "      <th>3</th>\n",
       "      <td>40-49</td>\n",
       "      <td>premeno</td>\n",
       "      <td>35-39</td>\n",
       "      <td>0-2</td>\n",
       "      <td>yes</td>\n",
       "      <td>3</td>\n",
       "      <td>right</td>\n",
       "      <td>left_low</td>\n",
       "      <td>yes</td>\n",
       "      <td>no-recurrence-events</td>\n",
       "    </tr>\n",
       "    <tr>\n",
       "      <th>4</th>\n",
       "      <td>40-49</td>\n",
       "      <td>premeno</td>\n",
       "      <td>30-34</td>\n",
       "      <td>3-5</td>\n",
       "      <td>yes</td>\n",
       "      <td>2</td>\n",
       "      <td>left</td>\n",
       "      <td>right_up</td>\n",
       "      <td>no</td>\n",
       "      <td>recurrence-events</td>\n",
       "    </tr>\n",
       "  </tbody>\n",
       "</table>\n",
       "</div>"
      ],
      "text/plain": [
       "     age menopause tumor-size inv-nodes node-caps  deg-malig  breast  \\\n",
       "0  40-49   premeno      15-19       0-2       yes          3   right   \n",
       "1  50-59      ge40      15-19       0-2        no          1   right   \n",
       "2  50-59      ge40      35-39       0-2        no          2    left   \n",
       "3  40-49   premeno      35-39       0-2       yes          3   right   \n",
       "4  40-49   premeno      30-34       3-5       yes          2    left   \n",
       "\n",
       "  breast-quad irradiat                  class  \n",
       "0     left_up       no      recurrence-events  \n",
       "1     central       no   no-recurrence-events  \n",
       "2    left_low       no      recurrence-events  \n",
       "3    left_low      yes   no-recurrence-events  \n",
       "4    right_up       no      recurrence-events  "
      ]
     },
     "execution_count": 2,
     "metadata": {},
     "output_type": "execute_result"
    }
   ],
   "source": [
    "df = pd.read_csv('data/bc.data', names=[\n",
    "    'age',\n",
    "    'menopause',\n",
    "    'tumor-size',\n",
    "    'inv-nodes',\n",
    "    'node-caps',\n",
    "    'deg-malig',\n",
    "    'breast',\n",
    "    'breast-quad',\n",
    "    'irradiat',\n",
    "    'class'\n",
    "])\n",
    "\n",
    "# слагане на нули пред единичните цифри, за да има е валидна лексикографската сортировка на данните\n",
    "df['tumor-size'] = df['tumor-size'].replace(' 5-9', ' 05-09').replace(' 0-4', ' 00-04')\n",
    "\n",
    "df.head()"
   ]
  },
  {
   "cell_type": "code",
   "execution_count": 3,
   "metadata": {},
   "outputs": [],
   "source": [
    "# interval_string is a string with the format 'a-b', e.g. '50-59'\n",
    "def get_interval_mean(interval_string):\n",
    "    a, b = list(map(float, interval_string.split('-')))\n",
    "    return (a + b) / 2 # TODO: overlapping intervals?\n",
    "\n",
    "def get_binned_mean(series):\n",
    "    counts = series.value_counts().to_dict().items()\n",
    "    sum = reduce(lambda acc, x: acc + get_interval_mean(x[0]) * x[1], counts, 0)\n",
    "    return sum / series.size"
   ]
  },
  {
   "cell_type": "code",
   "execution_count": 4,
   "metadata": {},
   "outputs": [],
   "source": [
    "def approximate_quantile(series, quantile = 0.5):\n",
    "    sorted_series = series.sort_values().reset_index(drop=True)\n",
    "    N = math.floor((series.size + 1) * quantile) - 1 # index from zero\n",
    "\n",
    "    cumsum = series.value_counts().sort_index().cumsum()\n",
    "    group_key = sorted_series[N]\n",
    "    group_index = cumsum.index.get_loc(group_key)\n",
    "    previous_group_index = group_index - 1 # TODO: clamp to zero?\n",
    "    previous_cumsum = cumsum[cumsum.index[previous_group_index]]\n",
    "\n",
    "    L, H = list(map(float, group_key.split('-')))\n",
    "    \n",
    "    group_size = cumsum[group_key] - previous_cumsum\n",
    "    \n",
    "    return L + (N - previous_cumsum) * ((H - L) / group_size)"
   ]
  },
  {
   "cell_type": "code",
   "execution_count": 5,
   "metadata": {},
   "outputs": [],
   "source": [
    "def approximate_mode(series):\n",
    "    value_counts = df.age.value_counts().sort_index()\n",
    "\n",
    "    mode_key = value_counts.sort_values(ascending=False).index[0]\n",
    "    \n",
    "    L, H = list(map(float, mode_key.split('-')))\n",
    "\n",
    "    mode_index = value_counts.index.get_loc(mode_key)\n",
    "\n",
    "    cur_count = value_counts[mode_index]\n",
    "    prev_count = value_counts[mode_index - 1]\n",
    "    next_count = value_counts[mode_index + 1]\n",
    "\n",
    "    return L + ((cur_count - prev_count) * (H - L)) / (2 * cur_count - prev_count - next_count)"
   ]
  },
  {
   "cell_type": "code",
   "execution_count": 6,
   "metadata": {},
   "outputs": [],
   "source": [
    "def get_stats(series):\n",
    "    mean = get_binned_mean(series)\n",
    "    mode = approximate_mode(series)\n",
    "    \n",
    "    median = approximate_quantile(series)\n",
    "    q1 = approximate_quantile(series, quantile=1/4)\n",
    "    q3 = approximate_quantile(series, quantile=3/4)\n",
    "    iqr = q3 - q1\n",
    "    lower_fence = q1 - 1.5 * iqr\n",
    "    upper_fence = q3 + 1.5 * iqr\n",
    "\n",
    "    return {\n",
    "        'mean': mean,\n",
    "        'mode': mode,\n",
    "        'median': median,\n",
    "        'q1': q1,\n",
    "        'q3': q3,\n",
    "        'xmin': lower_fence,\n",
    "        'xmax': upper_fence,\n",
    "    }"
   ]
  },
  {
   "cell_type": "code",
   "execution_count": 35,
   "metadata": {},
   "outputs": [],
   "source": [
    "def get_boxplot_stats(stats, label):\n",
    "    return {\n",
    "        'med': stats['median'],\n",
    "        'q1': stats['q1'],\n",
    "        'q3': stats['q3'],\n",
    "        'whislo': stats['xmin'],\n",
    "        'whishi': stats['xmax'],\n",
    "        'label': label\n",
    "    }\n",
    "\n",
    "def draw_boxplot(stats, label):\n",
    "    boxplot_stats = get_boxplot_stats(stats, label)\n",
    "\n",
    "    fig, ax = plt.subplots(1, 1)\n",
    "    \n",
    "    fig.set_size_inches(5, 6)\n",
    "    ax.bxp([boxplot_stats], showfliers=False)"
   ]
  },
  {
   "cell_type": "code",
   "execution_count": 14,
   "metadata": {},
   "outputs": [],
   "source": [
    "def print_summary(stats):\n",
    "    print('Средно аритметично: {}'.format(stats['mean']))\n",
    "    print('Медиана: {}'.format(stats['median']))\n",
    "    print('Мода: {}'.format(stats['mode']))\n",
    "    print()\n",
    "    print('Xmin: {}'.format(stats['xmin']))\n",
    "    print('Q1: {}'.format(stats['q1']))\n",
    "    print('Q2 (Медиана): {}'.format(stats['median']))\n",
    "    print('Q3: {}'.format(stats['q3']))\n",
    "    print('Xmax: {}'.format(stats['xmax']))"
   ]
  },
  {
   "cell_type": "markdown",
   "metadata": {},
   "source": [
    "## 1. Каква е средната възраст на жени, заболели от рак на гърдата?"
   ]
  },
  {
   "cell_type": "code",
   "execution_count": 16,
   "metadata": {},
   "outputs": [
    {
     "name": "stdout",
     "output_type": "stream",
     "text": [
      "Средно аритметично: 51.14335664335665\n",
      "Медиана: 51.40625\n",
      "Мода: 51.2\n",
      "\n",
      "Xmin: 21.015624999999993\n",
      "Q1: 43.3\n",
      "Q2 (Медиана): 51.40625\n",
      "Q3: 58.15625\n",
      "Xmax: 80.44062500000001\n"
     ]
    }
   ],
   "source": [
    "stats_age = get_stats(df.age)\n",
    "print_summary(stats_age)"
   ]
  },
  {
   "cell_type": "code",
   "execution_count": 9,
   "metadata": {},
   "outputs": [
    {
     "data": {
      "image/png": "[encoded data removed]",
      "text/plain": [
       "<Figure size 360x432 with 1 Axes>"
      ]
     },
     "metadata": {
      "needs_background": "light"
     },
     "output_type": "display_data"
    }
   ],
   "source": [
    "draw_boxplot(stats_age, label='Age')"
   ]
  },
  {
   "cell_type": "markdown",
   "metadata": {},
   "source": [
    "## 2. Каква е средната възраст на жени, при които се забелязва повтаряне на рака на гърдата след проведената операция?\n"
   ]
  },
  {
   "cell_type": "code",
   "execution_count": 32,
   "metadata": {},
   "outputs": [
    {
     "name": "stdout",
     "output_type": "stream",
     "text": [
      "Средно аритметично: 50.029411764705884\n",
      "Медиана: 50.0\n",
      "Мода: 51.2\n",
      "\n",
      "Xmin: 17.826666666666657\n",
      "Q1: 41.666666666666664\n",
      "Q2 (Медиана): 50.0\n",
      "Q3: 57.56\n",
      "Xmax: 81.4\n"
     ]
    }
   ],
   "source": [
    "df_age_recurrence = df[df['class'] == ' recurrence-events'].age\n",
    "stats_age_recurrence = get_stats(df_age_recurrence)\n",
    "print_summary(stats_age_recurrence)"
   ]
  },
  {
   "cell_type": "code",
   "execution_count": 30,
   "metadata": {},
   "outputs": [
    {
     "data": {
      "image/png": "[encoded data removed]",
      "text/plain": [
       "<Figure size 360x432 with 1 Axes>"
      ]
     },
     "metadata": {
      "needs_background": "light"
     },
     "output_type": "display_data"
    }
   ],
   "source": [
    "draw_boxplot(stats_age_recurrence, label='Age Recurrence')"
   ]
  },
  {
   "cell_type": "markdown",
   "metadata": {},
   "source": [
    "## 3. Каква е средната възраст на жени, при които не се забелязва повтаряне на рака на гърдата след проведената операция (т.е. се смятат за излекувани)?\n"
   ]
  },
  {
   "cell_type": "code",
   "execution_count": 33,
   "metadata": {},
   "outputs": [
    {
     "name": "stdout",
     "output_type": "stream",
     "text": [
      "Средно аритметично: 51.614427860696516\n",
      "Медиана: 51.901408450704224\n",
      "Мода: 51.2\n",
      "\n",
      "Xmin: 22.283702213279668\n",
      "Q1: 43.857142857142854\n",
      "Q2 (Медиана): 51.901408450704224\n",
      "Q3: 58.23943661971831\n",
      "Xmax: 79.8128772635815\n"
     ]
    }
   ],
   "source": [
    "df_age_no_recurrence = df[df['class'] == ' no-recurrence-events'].age\n",
    "stats_age_no_recurrence = get_stats(df_age_no_recurrence)\n",
    "print_summary(stats_age_no_recurrence)"
   ]
  },
  {
   "cell_type": "code",
   "execution_count": 37,
   "metadata": {},
   "outputs": [
    {
     "data": {
      "image/png": "[encoded data removed]",
      "text/plain": [
       "<Figure size 360x432 with 1 Axes>"
      ]
     },
     "metadata": {
      "needs_background": "light"
     },
     "output_type": "display_data"
    }
   ],
   "source": [
    "draw_boxplot(stats_age_no_recurrence, label='Age No Recurrence')"
   ]
  },
  {
   "cell_type": "code",
   "execution_count": 40,
   "metadata": {},
   "outputs": [
    {
     "data": {
      "image/png": "[encoded data removed]",
      "text/plain": [
       "<Figure size 720x864 with 1 Axes>"
      ]
     },
     "metadata": {
      "needs_background": "light"
     },
     "output_type": "display_data"
    }
   ],
   "source": [
    "fig, ax = plt.subplots(1, 1)\n",
    "fig.set_size_inches(10, 12)\n",
    "\n",
    "plot = ax.bxp([\n",
    "    get_boxplot_stats(stats_age, 'Age'),\n",
    "    get_boxplot_stats(stats_age_recurrence, 'Age Recurrence'),\n",
    "    get_boxplot_stats(stats_age_no_recurrence, 'Age No Recurrence')\n",
    "], showfliers=False)"
   ]
  }
 ],
 "metadata": {
  "kernelspec": {
   "display_name": "Python 3",
   "language": "python",
   "name": "python3"
  },
  "language_info": {
   "codemirror_mode": {
    "name": "ipython",
    "version": 3
   },
   "file_extension": ".py",
   "mimetype": "text/x-python",
   "name": "python",
   "nbconvert_exporter": "python",
   "pygments_lexer": "ipython3",
   "version": "3.7.3rc1"
  }
 },
 "nbformat": 4,
 "nbformat_minor": 2
}
