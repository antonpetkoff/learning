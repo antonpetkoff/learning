{
 "cells": [
  {
   "cell_type": "markdown",
   "metadata": {
    "colab_type": "text",
    "id": "4NXc6DUu91yu"
   },
   "source": [
    "# Text mining \n",
    "## Lab 08 Multi-Layer Perceptron on Reuters with reguarization techniques\n",
    "\n",
    "We are going to train a Neural Network to predict the origin of a document coming from the 20newsgroup dataset.\n",
    "\n",
    "For this puprose we'll use Tensorflow, and sklearn. Your job is to fill in the missing code into the cells below.\n",
    "\n",
    "You will find the steps you need to perform in the **Task** section in each cell."
   ]
  },
  {
   "cell_type": "markdown",
   "metadata": {
    "colab_type": "text",
    "id": "YMzZEvB163jQ"
   },
   "source": [
    "# Homework\n",
    "\n",
    "## Tasks\n",
    "\n",
    "\n",
    "0.   Load and preprocess the data for 20newsgroups\n",
    "1.   Create a multi layer perceptron (MLP) with N hidden layers with ReLU activation, and an Softmax output layer.\n",
    "2.   Compute it's gradients (manually or using tensorflow's API)\n",
    "3.   Compile the model with 'categorical_crossentropy' loss, and add metric 'accuracy'\n",
    "4.   Fill the dropout logic (it must be per layer)\n",
    "5.   Fill the l2 regularization logic (it must be per layer)\n",
    "6.   Fill the logic for early stopping\n",
    "7.   Fix the plotting function plot_history()\n",
    "\n",
    "## Submission\n",
    "\n",
    "You must submit your code with experiments:\n",
    "1. Different number of layers\n",
    "2. Compare l2, droput and early stopping \n",
    "3. Learning curves for train and test metrics (acc, loss) per each experiment"
   ]
  },
  {
   "cell_type": "code",
   "execution_count": 1,
   "metadata": {
    "colab": {},
    "colab_type": "code",
    "id": "YxxUUpp2fY-1"
   },
   "outputs": [],
   "source": [
    "import tensorflow as tf\n",
    "\n",
    "import pandas as pd\n",
    "import numpy as np\n",
    "import matplotlib.pyplot as plt\n",
    "\n",
    "from sklearn.datasets import fetch_20newsgroups\n",
    "from nltk import TweetTokenizer\n",
    "from tensorflow.keras import layers\n",
    "from tensorflow.keras.preprocessing.text import Tokenizer\n",
    "from tensorflow.keras.utils import to_categorical\n",
    "from tensorflow.keras.models import Model\n",
    "from tensorflow.keras.losses import categorical_crossentropy\n",
    "from tensorflow.keras import regularizers, initializers"
   ]
  },
  {
   "cell_type": "code",
   "execution_count": 2,
   "metadata": {
    "colab": {},
    "colab_type": "code",
    "id": "i8Lc07RyjoQG"
   },
   "outputs": [],
   "source": [
    "def next_batch(x_, y_, batch_size, ids = None):\n",
    "    if (ids is None):\n",
    "        # Random sample from the dataset. It can be sequential (but must be shuffled) within epoch, that will guarantee that you'll use all the data.\n",
    "        # The two approaches are practically equal when using a large number of epochs.\n",
    "        ids = np.random.choice(x_.shape[0], batch_size, replace=False)\n",
    "\n",
    "\n",
    "    feed_dict = {\n",
    "      'x': x_[ids],\n",
    "      'y': y_[ids]\n",
    "    }\n",
    "\n",
    "    return feed_dict\n",
    "\n",
    "def tweet_tokenize(text):\n",
    "    tknzr = TweetTokenizer(preserve_case=True, strip_handles=True)\n",
    "    return tknzr.tokenize(text)\n",
    "  \n",
    "def evalute_accuracy(x, y):\n",
    "    return sess.run(accuracy, feed_dict = next_batch(x, y, len(x)))"
   ]
  },
  {
   "cell_type": "code",
   "execution_count": 3,
   "metadata": {
    "colab": {},
    "colab_type": "code",
    "id": "UIGfXBCUjPP5"
   },
   "outputs": [
    {
     "name": "stdout",
     "output_type": "stream",
     "text": [
      "\n",
      "WARNING: The TensorFlow contrib module will not be included in TensorFlow 2.0.\n",
      "For more information, please see:\n",
      "  * https://github.com/tensorflow/community/blob/master/rfcs/20180907-contrib-sunset.md\n",
      "  * https://github.com/tensorflow/addons\n",
      "If you depend on functionality not listed there, please file an issue.\n",
      "\n"
     ]
    }
   ],
   "source": [
    "hparams = tf.contrib.training.HParams(\n",
    "    batch_size = 32,\n",
    "    max_epochs = 20, # 200,\n",
    "    max_features = 1000,\n",
    "    learning_rate = 0.03,\n",
    "    reg_param = 0.03,\n",
    "    dropout_keep_prob = 0.9,\n",
    "    use_dropout = False,\n",
    "    use_early_stoppoing = True,\n",
    "    early_stopping_patience = 3,\n",
    "    use_l2_reg = False,\n",
    "    layers = 2,\n",
    "    seed = 42\n",
    ")"
   ]
  },
  {
   "cell_type": "markdown",
   "metadata": {
    "colab_type": "text",
    "id": "c9xBc6xkbaTq"
   },
   "source": [
    "# Data Loading \n",
    "We are going to use the 20newsgroup dataset for multi-class text classification with Tensorflow.\n",
    "\n",
    "First we use the [fetch_20newgroup](http://scikit-learn.org/stable/modules/generated/sklearn.datasets.fetch_20newsgroups.html#sklearn.datasets.fetch_20newsgroups) module from sklearn. "
   ]
  },
  {
   "cell_type": "code",
   "execution_count": 4,
   "metadata": {
    "colab": {
     "base_uri": "https://localhost:8080/",
     "height": 34
    },
    "colab_type": "code",
    "id": "PWp1AC4fjLPf",
    "outputId": "6c3f20d0-4e61-477c-a74e-0a4237b1db39"
   },
   "outputs": [
    {
     "name": "stdout",
     "output_type": "stream",
     "text": [
      "Loading data...\n",
      "Data loaded.\n"
     ]
    }
   ],
   "source": [
    "print('Loading data...')\n",
    "\n",
    "# Passing none as we want to train over all the data.\n",
    "newsgroups_train = fetch_20newsgroups(subset='train',\n",
    "                                      categories=None)\n",
    "\n",
    "newsgroups_test = fetch_20newsgroups(subset='test',\n",
    "                                      categories=None)\n",
    "\n",
    "print('Data loaded.')"
   ]
  },
  {
   "cell_type": "markdown",
   "metadata": {
    "colab_type": "text",
    "id": "JZKsJPIctffJ"
   },
   "source": [
    "# Preprocessing\n",
    "\n",
    "In this paragraph you need to pre-process your data and create vectors suitable for feeding the NN. You can try different transorfmations and features, TFIDF would be a good start.\n",
    "\n",
    "You can use:<\n",
    "\n",
    "1.   [Tokenizer](https://keras.io/preprocessing/text/#tokenizer) from Keras, and to convert the list in newsgrops_\\*.data into BOW (Bag-Of-Words) vectors.\n",
    "2.   Convert the labels to OneHot encoded vectors e.g. for label '2' your vector should look like this [0, 0, ..., 1, 0] helpers can be found [here](https://keras.io/utils/);\n",
    "\n",
    "## Expected output\n",
    "\n",
    "20 classes\n",
    "\n",
    "Vectorizing sequence data...\n",
    "\n",
    "x_train shape: (11314, max_features)\n",
    "\n",
    "x_test shape: (7532, max_features)\n",
    "\n",
    "Convert class vector to binary class matrix (for use with categorical_crossentropy)\n",
    "\n",
    "y_train shape: (11314, 20)\n",
    "\n",
    "y_test shape: (7532, 20)"
   ]
  },
  {
   "cell_type": "code",
   "execution_count": 5,
   "metadata": {
    "colab": {
     "base_uri": "https://localhost:8080/",
     "height": 139
    },
    "colab_type": "code",
    "id": "sRD0-3L3LhnT",
    "outputId": "c8d6855b-3cf3-40db-b5bb-4d6c27fb6227"
   },
   "outputs": [
    {
     "name": "stdout",
     "output_type": "stream",
     "text": [
      "20 classes\n",
      "Vectorizing sequence data...\n",
      "x_train shape: (11314, 1000)\n",
      "x_test shape: (7532, 1000)\n",
      "Convert class vector to binary class matrix (for use with categorical_crossentropy)\n",
      "y_train shape: (11314, 20)\n",
      "y_test shape: (7532, 20)\n"
     ]
    }
   ],
   "source": [
    "num_classes = np.max(newsgroups_train.target) + 1\n",
    "\n",
    "print(num_classes, 'classes')\n",
    "\n",
    "print('Vectorizing sequence data...')\n",
    "\n",
    "tokenizer = Tokenizer(num_words=hparams.max_features)\n",
    "tokenizer.fit_on_texts(newsgroups_train.data)\n",
    "\n",
    "x_train = tokenizer.texts_to_matrix(newsgroups_train.data, mode='binary')\n",
    "x_test = tokenizer.texts_to_matrix(newsgroups_test.data, mode='binary')\n",
    "print('x_train shape:', x_train.shape)\n",
    "print('x_test shape:', x_test.shape)\n",
    "\n",
    "print('Convert class vector to binary class matrix '\n",
    "      '(for use with categorical_crossentropy)')\n",
    "\n",
    "y_train = to_categorical(newsgroups_train.target, num_classes)\n",
    "y_test = to_categorical(newsgroups_test.target, num_classes)\n",
    "print('y_train shape:', y_train.shape)\n",
    "print('y_test shape:', y_test.shape)"
   ]
  },
  {
   "cell_type": "markdown",
   "metadata": {
    "colab_type": "text",
    "id": "yi6MMWSsjdjw"
   },
   "source": [
    "# Model building\n",
    "For the architecture you can refer to the picture below. \n",
    "\n",
    "You can find detailed overview of backprop [here](https://mattmazur.com/2015/03/17/a-step-by-step-backpropagation-example/).\n",
    "\n",
    "You can find detailed overview of regularization [here](http://www.deeplearningbook.org/contents/regularization.html).\n",
    "\n",
    "\n",
    "![alt text](http://paddlepaddle.org/docs/develop/book/02.recognize_digits/image/softmax_regression_en.png)"
   ]
  },
  {
   "cell_type": "code",
   "execution_count": 9,
   "metadata": {
    "colab": {
     "base_uri": "https://localhost:8080/",
     "height": 236
    },
    "colab_type": "code",
    "id": "LXN3C9K4kfCE",
    "outputId": "6f1bdf69-cd0e-4b2b-d68a-b8a6328b31a4"
   },
   "outputs": [
    {
     "name": "stdout",
     "output_type": "stream",
     "text": [
      "_________________________________________________________________\n",
      "Layer (type)                 Output Shape              Param #   \n",
      "=================================================================\n",
      "input (InputLayer)           (None, 1000)              0         \n",
      "_________________________________________________________________\n",
      "dense-0 (Dense)              (None, 128)               128128    \n",
      "_________________________________________________________________\n",
      "dense-1 (Dense)              (None, 128)               16512     \n",
      "_________________________________________________________________\n",
      "output (Dense)               (None, 20)                2580      \n",
      "=================================================================\n",
      "Total params: 147,220\n",
      "Trainable params: 147,220\n",
      "Non-trainable params: 0\n",
      "_________________________________________________________________\n"
     ]
    }
   ],
   "source": [
    "def create_model(hparams):\n",
    "    input_layer = layers.Input(shape=(hparams.max_features,), name='input')\n",
    "    hidden = input_layer\n",
    "\n",
    "    for i in range(hparams.layers):\n",
    "        #create layers\n",
    "        hidden = layers.Dense(\n",
    "            128,\n",
    "            activation='relu',\n",
    "            kernel_regularizer=regularizers.l2(hparams.reg_param) if hparams.use_l2_reg else None,\n",
    "            kernel_initializer=initializers.glorot_normal(seed=hparams.seed),\n",
    "            name='dense-{}'.format(i)\n",
    "        )(hidden)\n",
    "\n",
    "        if hparams.use_dropout:\n",
    "            #use hparams.dropout_keep_prob and add dropout mask\n",
    "            hidden = layers.Dropout(rate=1 - hparams.dropout_keep_prob)(hidden)\n",
    "\n",
    "    # Softmax over classes for ouput\n",
    "    output_layer = layers.Dense(\n",
    "        num_classes,\n",
    "        activation='softmax',\n",
    "        kernel_regularizer=regularizers.l2(hparams.reg_param) if hparams.use_l2_reg else None,\n",
    "        kernel_initializer=initializers.glorot_normal(seed=hparams.seed),\n",
    "        name='output'\n",
    "    )(hidden)\n",
    "\n",
    "    if hparams.use_dropout:\n",
    "        #use hparams.dropout_keep_prob and add dropout mask\n",
    "        output_layer = layers.Dropout(rate=1 - hparams.dropout_keep_prob)(output_layer)\n",
    "\n",
    "    model = Model(inputs=[input_layer], outputs=output_layer)\n",
    "\n",
    "    # Minimize error using cross entropy\n",
    "    model.compile(loss='categorical_crossentropy', optimizer='adam', metrics=['acc'])\n",
    "\n",
    "    model.summary()\n",
    "    return model\n",
    "\n",
    "model = create_model(hparams)"
   ]
  },
  {
   "cell_type": "markdown",
   "metadata": {
    "colab_type": "text",
    "id": "F3uRmG0D072I"
   },
   "source": [
    "# Model training\n",
    "\n",
    "In this section you'll only need to run the cells, you don't have to modify them!"
   ]
  },
  {
   "cell_type": "code",
   "execution_count": 10,
   "metadata": {},
   "outputs": [
    {
     "name": "stdout",
     "output_type": "stream",
     "text": [
      "11314/11314 [==============================] - 1s 83us/sample - loss: 1.5801 - acc: 0.5430\n",
      "7532/7532 [==============================] - 0s 35us/sample - loss: 1.1860 - acc: 0.6364\n",
      "11314/11314 [==============================] - 1s 75us/sample - loss: 0.6579 - acc: 0.8016\n",
      "7532/7532 [==============================] - 0s 28us/sample - loss: 1.2141 - acc: 0.6406\n",
      "11314/11314 [==============================] - 1s 79us/sample - loss: 0.4282 - acc: 0.8710\n",
      "7532/7532 [==============================] - 0s 31us/sample - loss: 1.2862 - acc: 0.6395\n",
      "11314/11314 [==============================] - 1s 80us/sample - loss: 0.2930 - acc: 0.9159\n",
      "7532/7532 [==============================] - 0s 29us/sample - loss: 1.4595 - acc: 0.6260\n",
      "11314/11314 [==============================] - 1s 68us/sample - loss: 0.2000 - acc: 0.9455\n",
      "7532/7532 [==============================] - 0s 26us/sample - loss: 1.5496 - acc: 0.6370\n",
      "best epoch to stop is: 0 with loss: 1.1860319396250436\n",
      "Optimization Finished!\n"
     ]
    }
   ],
   "source": [
    "def train_model(model, hparams):\n",
    "    full_history = {\n",
    "        'loss': [[], []],\n",
    "        'acc': [[], []]\n",
    "    }\n",
    "\n",
    "    patience = 0\n",
    "    best_test_loss = np.inf\n",
    "    best_epoch = 0\n",
    "\n",
    "    # Training cycle\n",
    "    for epoch in range(hparams.max_epochs):\n",
    "        history = model.fit(\n",
    "            x=x_train,\n",
    "            y=y_train,\n",
    "            batch_size=hparams.batch_size,\n",
    "            epochs=1,\n",
    "            shuffle=True\n",
    "        )\n",
    "\n",
    "        train_loss = history.history['loss'][0]\n",
    "        train_acc = history.history['acc'][0]\n",
    "\n",
    "        test_loss, test_acc = model.evaluate(\n",
    "            x=x_test,\n",
    "            y=y_test,\n",
    "            batch_size=hparams.batch_size\n",
    "        )\n",
    "\n",
    "        full_history['loss'][0].append(train_loss)\n",
    "        full_history['loss'][1].append(test_loss)\n",
    "\n",
    "        full_history['acc'][0].append(train_acc)\n",
    "        full_history['acc'][1].append(test_acc)\n",
    "\n",
    "        if hparams.use_early_stoppoing:\n",
    "            if test_loss < best_test_loss:\n",
    "                best_test_loss = test_loss\n",
    "                best_epoch = epoch\n",
    "            else:\n",
    "                if patience < hparams.early_stopping_patience:\n",
    "                    patience = patience + 1\n",
    "                else:\n",
    "                    print('best epoch to stop is: {} with loss: {}'.format(best_epoch, best_test_loss))\n",
    "                    break\n",
    "\n",
    "    print(\"Optimization Finished!\")\n",
    "    return full_history\n",
    "\n",
    "history = train_model(model, hparams)"
   ]
  },
  {
   "cell_type": "code",
   "execution_count": 11,
   "metadata": {},
   "outputs": [],
   "source": [
    "def visualize_history(history, key='loss'):\n",
    "    plt.plot(history[key][0])\n",
    "    plt.plot(history[key][1])\n",
    "    plt.title('model {}'.format(key))\n",
    "    plt.ylabel(key)\n",
    "    plt.xlabel('epoch')\n",
    "    plt.legend(['train', 'test'], loc='upper left')\n",
    "    return plt"
   ]
  },
  {
   "cell_type": "code",
   "execution_count": 12,
   "metadata": {},
   "outputs": [
    {
     "data": {
      "image/png": "[encoded data removed]",
      "text/plain": [
       "<Figure size 432x288 with 1 Axes>"
      ]
     },
     "metadata": {
      "needs_background": "light"
     },
     "output_type": "display_data"
    }
   ],
   "source": [
    "visualize_history(history, key='loss').show()"
   ]
  },
  {
   "cell_type": "code",
   "execution_count": 13,
   "metadata": {},
   "outputs": [
    {
     "data": {
      "image/png": "[encoded data removed]",
      "text/plain": [
       "<Figure size 432x288 with 1 Axes>"
      ]
     },
     "metadata": {
      "needs_background": "light"
     },
     "output_type": "display_data"
    }
   ],
   "source": [
    "visualize_history(history, key='acc').show()"
   ]
  },
  {
   "cell_type": "code",
   "execution_count": 18,
   "metadata": {},
   "outputs": [],
   "source": [
    "def run_experiment(hparams, title='Experiment'):\n",
    "    print('RUNNING EXPERIMENT: {}'.format(title))\n",
    "    model = create_model(hparams)\n",
    "    history = train_model(model, hparams)\n",
    "    visualize_history(history, key='loss').show()\n",
    "    visualize_history(history, key='acc').show()\n",
    "    final_test_loss = history['loss'][1][-1]\n",
    "    final_test_acc = history['acc'][1][-1]\n",
    "    print('Final test loss: {}'.format(final_test_loss))\n",
    "    print('Final test accuracy: {}'.format(final_test_acc))"
   ]
  },
  {
   "cell_type": "code",
   "execution_count": 19,
   "metadata": {},
   "outputs": [
    {
     "name": "stdout",
     "output_type": "stream",
     "text": [
      "RUNNING EXPERIMENT: Experiment\n",
      "_________________________________________________________________\n",
      "Layer (type)                 Output Shape              Param #   \n",
      "=================================================================\n",
      "input (InputLayer)           (None, 1000)              0         \n",
      "_________________________________________________________________\n",
      "dense-0 (Dense)              (None, 128)               128128    \n",
      "_________________________________________________________________\n",
      "dense-1 (Dense)              (None, 128)               16512     \n",
      "_________________________________________________________________\n",
      "output (Dense)               (None, 20)                2580      \n",
      "=================================================================\n",
      "Total params: 147,220\n",
      "Trainable params: 147,220\n",
      "Non-trainable params: 0\n",
      "_________________________________________________________________\n",
      "11314/11314 [==============================] - 1s 83us/sample - loss: 1.5824 - acc: 0.5328\n",
      "7532/7532 [==============================] - 0s 31us/sample - loss: 1.2203 - acc: 0.6305\n",
      "11314/11314 [==============================] - 1s 72us/sample - loss: 0.6507 - acc: 0.8036\n",
      "7532/7532 [==============================] - 0s 29us/sample - loss: 1.1776 - acc: 0.6462\n",
      "11314/11314 [==============================] - 1s 77us/sample - loss: 0.4312 - acc: 0.8749\n",
      "7532/7532 [==============================] - 0s 27us/sample - loss: 1.2583 - acc: 0.6459\n",
      "11314/11314 [==============================] - 1s 70us/sample - loss: 0.2872 - acc: 0.9175\n",
      "7532/7532 [==============================] - 0s 27us/sample - loss: 1.4468 - acc: 0.6366\n",
      "11314/11314 [==============================] - 1s 75us/sample - loss: 0.1927 - acc: 0.9494\n",
      "7532/7532 [==============================] - 0s 29us/sample - loss: 1.5251 - acc: 0.6353\n",
      "11314/11314 [==============================] - 1s 71us/sample - loss: 0.1276 - acc: 0.9677\n",
      "7532/7532 [==============================] - 0s 34us/sample - loss: 1.7535 - acc: 0.6253\n",
      "best epoch to stop is: 1 with loss: 1.1776275379633687\n",
      "Optimization Finished!\n"
     ]
    },
    {
     "data": {
      "image/png": "[encoded data removed]",
      "text/plain": [
       "<Figure size 432x288 with 1 Axes>"
      ]
     },
     "metadata": {
      "needs_background": "light"
     },
     "output_type": "display_data"
    },
    {
     "data": {
      "image/png": "[encoded data removed]",
      "text/plain": [
       "<Figure size 432x288 with 1 Axes>"
      ]
     },
     "metadata": {
      "needs_background": "light"
     },
     "output_type": "display_data"
    },
    {
     "name": "stdout",
     "output_type": "stream",
     "text": [
      "Final test loss: 1.7535220908156368\n",
      "Final test accuracy: 0.6253319382667542\n"
     ]
    }
   ],
   "source": [
    "run_experiment(hparams)"
   ]
  }
 ],
 "metadata": {
  "colab": {
   "collapsed_sections": [],
   "name": "TM-lab08-MLP-Reg",
   "provenance": [],
   "version": "0.3.2"
  },
  "kernelspec": {
   "display_name": "Python 3",
   "language": "python",
   "name": "python3"
  },
  "language_info": {
   "codemirror_mode": {
    "name": "ipython",
    "version": 3
   },
   "file_extension": ".py",
   "mimetype": "text/x-python",
   "name": "python",
   "nbconvert_exporter": "python",
   "pygments_lexer": "ipython3",
   "version": "3.7.3"
  }
 },
 "nbformat": 4,
 "nbformat_minor": 1
}
